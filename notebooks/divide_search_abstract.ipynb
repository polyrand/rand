{
 "cells": [
  {
   "cell_type": "markdown",
   "metadata": {},
   "source": [
    "# Divide ➗ Search 🔍 Abstract 🔭\n",
    "  \n",
    "Date: 2019-12-28  \n",
    "Author: Ricardo  \n",
    "Categories: tips, problem, solving, abstraction, thinking  \n",
    "Tags: problem, solving, abstraction, thinking  \n",
    "<!--eofm-->"
   ]
  },
  {
   "cell_type": "markdown",
   "metadata": {},
   "source": [
    "Some problems are harder than others, but having a system to approach mkaes the true difference.\n",
    "<!--more-->"
   ]
  },
  {
   "cell_type": "markdown",
   "metadata": {},
   "source": [
    "Yesterday I finished teaching my first Python course. Apart from teaching about generators, decorators, coroutines, multiprocessing, pandas, flask, pytest, docker... and a long list of development tools, I tried to transmit an important message I believe is a lot more fundamental then knowing all the technicalities, and it is problem solving."
   ]
  },
  {
   "cell_type": "markdown",
   "metadata": {},
   "source": [
    "We, not only as programmers but in life in general, have to solve things constantly, wether it's at work, at home, or with ourselves. Facing the problem as such can become daunting and look impossible at first, habing techniques to work through them can be an incredibly helpful tool. For me that technique can be summarized in three words: Divide. Search. Abstract.\n",
    "\n",
    "To illustrate the method I will use a simple problem: writing a function to generate random email strings."
   ]
  },
  {
   "cell_type": "markdown",
   "metadata": {},
   "source": [
    "First, we **divide** the problem as much as we can or need. In our case the first division may be:\n",
    "\n",
    "* Make random choices for things.\n",
    "* Generate username.\n",
    "* Generate domain `(gmail hotmail outlook ...)`.\n",
    "* Generate domain root `(.com .es .org .edu ...)`."
   ]
  },
  {
   "cell_type": "markdown",
   "metadata": {},
   "source": [
    "Lets now tackle the first part. We need to be able to make random choices, that looks like a very common problem, so the chances someone has already worked on that are very high. A quick Google **search** lands us on the Python documentation from the [random](https://docs.python.org/3/library/random.html) module, and it looks the method `random.choice()` does just that.\n",
    "\n",
    "Now we need to generate the username, we can **divide** that problem as well:\n",
    "\n",
    "* Generate username:\n",
    "  * Create a set of all the possible characters we want.\n",
    "  * Choose random elements from that set.\n",
    "  * Make the user able to choose the length of the username created."
   ]
  },
  {
   "cell_type": "markdown",
   "metadata": {},
   "source": [
    "For the first part, another quick **search** tells us about `string.ascii_lowercase`, which is just what we need. The second part was already solved before. Lets see if the work together."
   ]
  },
  {
   "cell_type": "code",
   "execution_count": 1,
   "metadata": {},
   "outputs": [
    {
     "data": {
      "text/plain": [
       "'l'"
      ]
     },
     "execution_count": 1,
     "metadata": {},
     "output_type": "execute_result"
    }
   ],
   "source": [
    "from random import choice\n",
    "from string import ascii_lowercase as letters\n",
    "\n",
    "choice(letters)"
   ]
  },
  {
   "cell_type": "markdown",
   "metadata": {},
   "source": [
    "Fantastic, we have already solve a tiny bit of our problem, we only need to make a loop and generate many random letters. For this part, a list comprehension together with `range()` will make it for us."
   ]
  },
  {
   "cell_type": "code",
   "execution_count": 2,
   "metadata": {},
   "outputs": [
    {
     "data": {
      "text/plain": [
       "['k', 'm', 'm', 'o', 'i', 'd', 'x', 't', 'j', 'f']"
      ]
     },
     "execution_count": 2,
     "metadata": {},
     "output_type": "execute_result"
    }
   ],
   "source": [
    "[choice(letters) for _ in range(10)]"
   ]
  },
  {
   "cell_type": "markdown",
   "metadata": {},
   "source": [
    "Lastly, we need to concatenate those characters, another **search** will show us the `str.join()` method:"
   ]
  },
  {
   "cell_type": "code",
   "execution_count": 3,
   "metadata": {},
   "outputs": [
    {
     "data": {
      "text/plain": [
       "'dgiqtxxlmg'"
      ]
     },
     "execution_count": 3,
     "metadata": {},
     "output_type": "execute_result"
    }
   ],
   "source": [
    "\"\".join([choice(letters) for _ in range(10)])"
   ]
  },
  {
   "cell_type": "markdown",
   "metadata": {},
   "source": [
    "Awesome 🎉, we have done the first part of our problem, and not only that, now we are more prepared for the next parts.\n",
    "\n",
    "Choosing random letters to get a valid domain and root doesn't look appropiate, having our own lists for that seems easier:"
   ]
  },
  {
   "cell_type": "code",
   "execution_count": 4,
   "metadata": {},
   "outputs": [],
   "source": [
    "domains = [\"gmail\", \"hotmail\", \"outlook\",\"yahoo\"]\n",
    "roots = [\".com\", \".xyz\", \".es\", \".org\"]"
   ]
  },
  {
   "cell_type": "markdown",
   "metadata": {},
   "source": [
    "We can check if our previous knowledge can be used here too:"
   ]
  },
  {
   "cell_type": "code",
   "execution_count": 5,
   "metadata": {},
   "outputs": [
    {
     "name": "stdout",
     "output_type": "stream",
     "text": [
      "outlook\n",
      ".xyz\n"
     ]
    }
   ],
   "source": [
    "print(choice(domains))\n",
    "print(choice(roots))"
   ]
  },
  {
   "cell_type": "markdown",
   "metadata": {},
   "source": [
    "We have already solved many important points of our problem, so it may be a good idea to start **abstracting** them inside a function. By abtracting it we are not only freeing space in out minds, but also making it easier for other people to use, work with and build upon what we have created."
   ]
  },
  {
   "cell_type": "code",
   "execution_count": 6,
   "metadata": {},
   "outputs": [],
   "source": [
    "def mail_generator():\n",
    "    domains = [\"gmail\", \"hotmail\", \"outlook\", \"yahoo\"]\n",
    "    roots = [\".com\", \".xyz\", \".es\", \".org\", \".pl\"]\n",
    "\n",
    "    username = \"\".join([choice(letters) for _ in range(10)])\n",
    "    \n",
    "    domain = choice(domains)\n",
    "    root = choice(roots)\n",
    "    \n",
    "    final_string = f\"{username}@{domain}{root}\"\n",
    "    \n",
    "    return final_string"
   ]
  },
  {
   "cell_type": "code",
   "execution_count": 7,
   "metadata": {},
   "outputs": [
    {
     "data": {
      "text/plain": [
       "'udirqpnyft@hotmail.xyz'"
      ]
     },
     "execution_count": 7,
     "metadata": {},
     "output_type": "execute_result"
    }
   ],
   "source": [
    "mail_generator()"
   ]
  },
  {
   "cell_type": "markdown",
   "metadata": {},
   "source": [
    "It works 🥳. But wait! All of our emails will have the same length, maybe we want to let our users choose a length interval. If we want, we can **divide** that part as well:\n",
    "\n",
    "* Let the user choose the length:\n",
    "  * Generate random integer\n",
    "  * Use it for our length\n",
    "\n",
    "Another **search** gives us the anser, that `random` makes a comeback with its `randint()` method, which solves our problem all at once, since it lets us pick an interval."
   ]
  },
  {
   "cell_type": "code",
   "execution_count": 8,
   "metadata": {},
   "outputs": [
    {
     "data": {
      "text/plain": [
       "9"
      ]
     },
     "execution_count": 8,
     "metadata": {},
     "output_type": "execute_result"
    }
   ],
   "source": [
    "from random import randint\n",
    "\n",
    "randint(3, 12)"
   ]
  },
  {
   "cell_type": "markdown",
   "metadata": {},
   "source": [
    "We can wrap everything up by refactoring our function, we need to give it to parameters and put the `randint()` inside our `range()`:"
   ]
  },
  {
   "cell_type": "code",
   "execution_count": 9,
   "metadata": {},
   "outputs": [],
   "source": [
    "def mail_generator(minimum: int = 3, maximum: int = 15) -> str:\n",
    "    domains = [\"gmail\", \"hotmail\", \"outlook\", \"yahoo\"]\n",
    "    roots = [\".com\", \".xyz\", \".es\", \".org\", \".pl\"]\n",
    "\n",
    "    username = \"\".join([choice(letters) for _ in range(randint(minimum, maximum))])\n",
    "\n",
    "    domain = choice(domains)\n",
    "    root = choice(roots)\n",
    "\n",
    "    final_string = f\"{username}@{domain}{root}\"\n",
    "\n",
    "    return final_string"
   ]
  },
  {
   "cell_type": "code",
   "execution_count": 11,
   "metadata": {},
   "outputs": [
    {
     "data": {
      "text/plain": [
       "'xeuxgsfvu@outlook.xyz'"
      ]
     },
     "execution_count": 11,
     "metadata": {},
     "output_type": "execute_result"
    }
   ],
   "source": [
    "mail_generator(5, 20)"
   ]
  },
  {
   "cell_type": "markdown",
   "metadata": {},
   "source": [
    "Finally! We have finished our function. Now we can keep working on it adding features as we want (choosing domain roots depending on the domain name, adding numbers to the username, etc), but our main problem is done."
   ]
  },
  {
   "cell_type": "markdown",
   "metadata": {},
   "source": [
    "I know the problem showed here is quite simple, but it's more than enough to illustrate the technique.\n",
    "\n",
    "Problemas may be more or less tedious to solve, but by dividing them in smaller parts, seraching for information to solve those smaller parts (Google, documentation, books...), and finally abstracting those will get us a lot closer to solving it than if we just try to approach it as a whole.\n",
    "\n",
    "In the end, if we are where we are, solving the problems of our current reality is because some people in the past took the problems of their time, solved their little parts and then abstracted that solution into a tool we can use."
   ]
  }
 ],
 "metadata": {
  "kernelspec": {
   "display_name": "Python 3",
   "language": "python",
   "name": "python3"
  },
  "language_info": {
   "codemirror_mode": {
    "name": "ipython",
    "version": 3
   },
   "file_extension": ".py",
   "mimetype": "text/x-python",
   "name": "python",
   "nbconvert_exporter": "python",
   "pygments_lexer": "ipython3",
   "version": "3.8.0"
  }
 },
 "nbformat": 4,
 "nbformat_minor": 4
}
