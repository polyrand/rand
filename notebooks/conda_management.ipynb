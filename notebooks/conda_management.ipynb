{
 "cells": [
  {
   "cell_type": "markdown",
   "metadata": {},
   "source": [
    "# Conda management\n",
    "  \n",
    "Date: 2020-02-21  \n",
    "Author: Ricardo  \n",
    "Categories: conda, environments  \n",
    "Tags: conda, environment, python  \n",
    "thumbnail: img/conda_management.jpg \n",
    "<!--eofm-->"
   ]
  },
  {
   "cell_type": "markdown",
   "metadata": {},
   "source": [
    "Manage conda environments and Jupyterlab easily.\n",
    "<!--more-->"
   ]
  },
  {
   "cell_type": "markdown",
   "metadata": {},
   "source": [
    "**TL;DR** Use [this](https://github.com/polyrand/scripts/blob/master/condacreate_dev.sh) script to create a base conda environment with Jupyterlab and some plugins, and [this](https://github.com/polyrand/scripts/blob/master/condacreate.sh) to create new environments and make them available when launching Jupyter.\n",
    "\n",
    "I used to have a default script to create a conda environment, in that script I would install al the packages I consider basic, plus Jupyterlab and some plugins. Yes a new fresh Jupyterlab+plugins for every environment.\n",
    "\n",
    "A few days ago I read [this tweet by Vicki Boykis](https://twitter.com/vboykis/status/1229813718776786944) and [one of the answers from Peter Baumgartner](https://twitter.com/pmbaumgartner/status/1229880784342917122) and decided to change my workflow a little bit. Now I use the 2 scripts I linked above, and I will go through explaining what they do. Hopefully you can also learn a bit about conda too."
   ]
  },
  {
   "cell_type": "markdown",
   "metadata": {},
   "source": [
    "[condacreate_dev.sh](https://github.com/polyrand/scripts/blob/master/condacreate_dev.sh): this first one is used to create a base environment that will hold jupyterlab, and the package [nb_conda_kernels](https://github.com/Anaconda-Platform/nb_conda_kernels) which *enables a Jupyter Notebook or JupyterLab application in one conda environment to access kernels for Python, R, and other languages found in other environments*."
   ]
  },
  {
   "cell_type": "markdown",
   "metadata": {},
   "source": [
    "```bash\n",
    "conda create --name \"$NAME\" python=\"$VERSION\"\n",
    "```"
   ]
  },
  {
   "cell_type": "markdown",
   "metadata": {},
   "source": [
    "With that we create a new conda environment with the name we want and a pyhon version, in my case I execute the script like: `./condacreate_dev.sh dev 3.7` and it creates an environment called \"dev\" using Python 3.7.\n",
    "\n",
    "```sh\n",
    "conda install -y --name \"$NAME\" -c conda-forge ipython jupyterlab nb_conda_kernels\n",
    "```\n",
    "\n",
    "Now we install the python packages I mentioned before. Using the flag `-y` we accept the installation by default so we don't need to interact with our terminalm the flag `--name` lets you execute the command in the environment with that name (in this case it's \"dev\")."
   ]
  },
  {
   "cell_type": "markdown",
   "metadata": {},
   "source": [
    "Then I install the extensions I use:\n",
    "\n",
    "```sh\n",
    "conda run -n \"$NAME\" jupyter labextension install @jupyterlab/toc --no-build\n",
    "conda run -n \"$NAME\" jupyter labextension install @jupyterlab/celltags --no-build\n",
    "conda run -n \"$NAME\" jupyter labextension install @jupyter-widgets/jupyterlab-manager --no-build\n",
    "conda run -n \"$NAME\" jupyter labextension install @ryantam626/jupyterlab_code_formatter --no-build\n",
    "```\n",
    "\n",
    "`conda run` executes a command, `-n` is the same as `--name`, the tag `--no-build` tells Jupyterlab to **not** rebuild itself after installing every extensions. Before knowing that tag existed I spent quite a lot of time creating new environments.\n",
    "\n",
    "```sh\n",
    "conda install -y --name \"$NAME\" -c conda-forge jupyterlab-git\n",
    "conda install -y --name \"$NAME\" -c conda-forge jupyterlab_code_formatter\n",
    "conda run -n \"$NAME\" jupyter serverextension enable --py jupyterlab_code_formatter\n",
    "conda run -n \"$NAME\" jupyter lab build\n",
    "```"
   ]
  },
  {
   "cell_type": "markdown",
   "metadata": {},
   "source": [
    "Finally I install some more extensions and I rebuild Jupyterlab with the last command.\n",
    "\n",
    "The last lines:\n",
    "\n",
    "```sh\n",
    "if [[ $3 == 'alias' ]]; then\n",
    "    echo \"alias $NAME='conda activate $NAME'\" >> ~/dotfiles/.condalias\n",
    "fi\n",
    "```\n",
    "\n",
    "With those I can create an alias with the same name of the environment to activate it, so if my initial command was `./condacreate_dev.sh dev 3.7 alias` it would have create an alias so that by running the command `dev` in my terminal would activate that environment."
   ]
  },
  {
   "cell_type": "markdown",
   "metadata": {},
   "source": [
    "[condacreate.sh](https://github.com/polyrand/scripts/blob/master/condacreate.sh): the second one creates a default environment with the base packages. At the end we run:\n",
    "\n",
    "```sh\n",
    "conda run -n \"$NAME\" ipython kernel install --user --name=\"$NAME\"\n",
    "```\n",
    "\n",
    "And with that we register the environment to be used every time I run Jupyter."
   ]
  },
  {
   "cell_type": "markdown",
   "metadata": {},
   "source": [
    "Apart from that, I use a couple of bash aliases tha simplify the workflow a lot:\n",
    "\n",
    "```sh\n",
    "alias createpy='bash ~/Projects/scripts/condacreate.sh'\n",
    "alias createdev='bash ~/Projects/scripts/condacreate_dev.sh'\n",
    "\n",
    "alias lab='conda run -n dev jupyter lab'\n",
    "alias blab='nohup conda run -n dev jupyter lab --browser firefox &>/dev/null &'\n",
    "```\n",
    "\n",
    "The first two are for creating the environments, the other are for running Jupyterlab from the base environment (called \"dev\"). The most special one is the last one, which runs Jupyterlab in the background so that it does not die if you mistakenly close the terminal.\n",
    "\n",
    "My final workflow would be:\n",
    "\n",
    "```sh\n",
    "# create base env\n",
    "createdev dev 3.7\n",
    "\n",
    "# create env for nlp and make an alias called \"nlp\" to activate it\n",
    "createpy nlp 3.7 alias\n",
    "\n",
    "# activate that env\n",
    "nlp\n",
    "\n",
    "# and install whatever I need\n",
    "conda install -c conda-forge spacy gensim \n",
    "\n",
    "# deactivate the environment\n",
    "conda deactivate\n",
    "```\n",
    "\n",
    "And now from anywhere I can run `blab` to run Jupyterlab and create a new notebook using the environment called \"nlp\".\n",
    "\n",
    "Lastly, you can run `jupyter kernelspec list` with the \"dev\" environment activated to list the registered kernels and `jupyter kernelspec uninstall <name>` to remove the kernel called `<name>`."
   ]
  },
  {
   "cell_type": "markdown",
   "metadata": {},
   "source": [
    "References:\n",
    "\n",
    "* http://veekaybee.github.io/2020/02/18/running-jupyter-in-venv/\n",
    "* https://twitter.com/pmbaumgartner/status/1229880784342917122"
   ]
  }
 ],
 "metadata": {
  "kernelspec": {
   "display_name": "Python 3",
   "language": "python",
   "name": "python3"
  },
  "language_info": {
   "codemirror_mode": {
    "name": "ipython",
    "version": 3
   },
   "file_extension": ".py",
   "mimetype": "text/x-python",
   "name": "python",
   "nbconvert_exporter": "python",
   "pygments_lexer": "ipython3",
   "version": "3.7.6"
  }
 },
 "nbformat": 4,
 "nbformat_minor": 4
}
