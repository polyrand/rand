{
 "cells": [
  {
   "cell_type": "markdown",
   "metadata": {},
   "source": [
    "# State tables"
   ]
  },
  {
   "cell_type": "markdown",
   "metadata": {},
   "source": [
    "State machines simplify control flow. One way to represent states and trasitions is with a [state/event table](https://en.wikipedia.org/wiki/Finite-state_machine#State/Event_table).\n",
    "\n",
    "One way to build them is: the combination of current state (e.g. B) and input (e.g. Y) shows the next state (e.g. C).\n",
    "\n",
    "|Input \\ Current State   | State A  | State B  | State C  |\n",
    "|:-:|:-:|:-:|:-:|\n",
    "| Input X  | ...  | ...  | ...  |\n",
    "| Input Y  | ...  | State C  | ...  |\n",
    "| Input Z  | ...  | ...  | ...  |\n",
    "\n",
    "However, the complete action's information is not directly described in the table. It can only be added using *footnotes*. We can achieve this using conditions:\n",
    "\n",
    "|   State Name  |    Condition(s)   |    Action(s)   |   |\n",
    "|-------------|-----------------|--------------|:-:|\n",
    "| Current state |  Entry condition  | Output name(s) |   |\n",
    "|               |   Exit condition  |     Output     |   |\n",
    "|               | Virtual condition |     Output     |   |\n",
    "| Next state    | Condition         | Output         |   |\n",
    "| Next state    | Condition         | Output         |   |\n",
    "| ...           | ...               |       ...      |   |\n",
    "|               |                   |                |   |\n",
    "\n",
    "\n",
    "<!-- An FSM definition including the full actions information is possible using state tables. -->\n",
    "\n",
    "Let's implement one. I am going to use pandas instead of raw python lists becuase it has nicer array indexing syntax. \n",
    "\n",
    "Before building it, I will state a problem:\n",
    "\n",
    "We are managing some platform where users can register. When they sign up we ask them for their email and their ID card number. After that they need to validate their address. Some users can be admins. Admins can notify ban users, but those users will go through a revision process before. If the user gets banned they won't be able to register again using that ID card number.\n",
    "\n",
    "Users can post information to the platform, but only if they have a valid account. Users can deactivate their accounts, but if they are and admin they will not be able to become admin again if they come back."
   ]
  },
  {
   "cell_type": "code",
   "execution_count": 70,
   "metadata": {},
   "outputs": [],
   "source": [
    "import numpy as np\n",
    "import pandas as pd\n",
    "\n",
    "from enum import Enum, auto, unique\n",
    "from shortuuid import uuid\n",
    "\n",
    "from random import choice"
   ]
  },
  {
   "cell_type": "markdown",
   "metadata": {},
   "source": [
    "Step 1: build the DataFrame"
   ]
  },
  {
   "cell_type": "code",
   "execution_count": 40,
   "metadata": {},
   "outputs": [],
   "source": [
    "n_states = 5\n",
    "n_inputs = 10"
   ]
  },
  {
   "cell_type": "code",
   "execution_count": 41,
   "metadata": {},
   "outputs": [],
   "source": [
    "# I'm going to first build a dictionary and then convert that to a DataFrame.\n",
    "\n",
    "# state_dict = {\n",
    "#     f\"State {state}\": [None for _ in range(n_inputs)] for state in range(n_states)\n",
    "# }\n",
    "\n",
    "# [f\"Input {i}\" for i in range(n_inputs)] + [lambda x: x+1]"
   ]
  },
  {
   "cell_type": "code",
   "execution_count": 98,
   "metadata": {},
   "outputs": [],
   "source": [
    "@unique\n",
    "class States(Enum):\n",
    "    no_account = auto()\n",
    "    signed_up = auto()\n",
    "    email_validated = auto()\n",
    "    admin = auto()\n",
    "    in_revision = auto()\n",
    "    deactivated = auto()"
   ]
  },
  {
   "cell_type": "code",
   "execution_count": 114,
   "metadata": {},
   "outputs": [],
   "source": [
    "@unique\n",
    "class Inputs(Enum):\n",
    "    try_sign_up = auto()\n",
    "    deactivate_account = auto()\n",
    "    post_information = auto()\n",
    "    reactivate_account = auto()"
   ]
  },
  {
   "cell_type": "markdown",
   "metadata": {},
   "source": [
    "We already have a few users in our platform. They are stored in a database (a dictionary for simplicity). For obvious reasons, out database does not have any user with the state `no_account`."
   ]
  },
  {
   "cell_type": "code",
   "execution_count": 100,
   "metadata": {},
   "outputs": [],
   "source": [
    "users_db = {uuid(): choice([s for s in States if s.name != \"no_account\"]) for _ in range(25)}"
   ]
  },
  {
   "cell_type": "code",
   "execution_count": 101,
   "metadata": {},
   "outputs": [
    {
     "data": {
      "text/plain": [
       "{'VRKDpGriG4PreYzNp2rKHq': <States.email_validated: 3>,\n",
       " 'hz5WxsxBF44a73cHrZAEzP': <States.signed_up: 2>,\n",
       " 'VLoqfUqkHZchHCKCqeQ45H': <States.email_validated: 3>,\n",
       " 'Kg7GhzVwNSswJQwDXcWbP5': <States.email_validated: 3>,\n",
       " 'KixJKMTiTBW8JZSdHYXZYj': <States.in_revision: 5>,\n",
       " 'atDuYeDtvUHAmfJzaHThFA': <States.email_validated: 3>,\n",
       " '5GpqCpMfDKyzJd8MpjNYZC': <States.in_revision: 5>,\n",
       " 'AvZjAqQ6vBNS2NoRH6GDaV': <States.admin: 4>,\n",
       " '8r8BMpxMbmyDNH8x3VNush': <States.in_revision: 5>,\n",
       " 'oXLsgazxXXj9moz5EmzFS8': <States.admin: 4>,\n",
       " 'QgajatiW98ubWmFS7Kaumk': <States.email_validated: 3>,\n",
       " 'J2pyhMe9tj3r3dwyjbu5uq': <States.email_validated: 3>,\n",
       " 'b8sBDGMUShNidGJpyFXbxb': <States.deactivated: 6>,\n",
       " 'bUBh4W9X6evHkrP3R4ovK9': <States.in_revision: 5>,\n",
       " 'MJXnCEJyYVeCnrsMGUyKa5': <States.signed_up: 2>,\n",
       " 'GUxrgxFnMPci6biJ5TXvok': <States.in_revision: 5>,\n",
       " 'WF9Q78d9aMaqQqwCZKahdq': <States.email_validated: 3>,\n",
       " 'cLsjrYpMzTf3r8SF3GtmKY': <States.admin: 4>,\n",
       " 'LafMMRHcefwHQHcZD6AD87': <States.signed_up: 2>,\n",
       " 'SdNve2K2XC4AiKLn2wXsGZ': <States.deactivated: 6>,\n",
       " 'LHBnH8Niqz6cN4bFoa8bKa': <States.signed_up: 2>,\n",
       " 'hUW6dHZHd9ZaomePg7tQMs': <States.signed_up: 2>,\n",
       " '7oTWfkVMEb9j5RwtMbrJVx': <States.email_validated: 3>,\n",
       " 'bNi7GTtjuPKfnGJ4kTTQhx': <States.admin: 4>,\n",
       " 'PL7tecKoHmA8QEqqqchVvC': <States.signed_up: 2>}"
      ]
     },
     "execution_count": 101,
     "metadata": {},
     "output_type": "execute_result"
    }
   ],
   "source": [
    "users_db"
   ]
  },
  {
   "cell_type": "markdown",
   "metadata": {},
   "source": [
    "And now out states table."
   ]
  },
  {
   "cell_type": "code",
   "execution_count": 115,
   "metadata": {},
   "outputs": [],
   "source": [
    "table = pd.DataFrame(\n",
    "    columns=[s.name for s in States],\n",
    "    index=[i.name for i in Inputs],\n",
    ")"
   ]
  },
  {
   "cell_type": "code",
   "execution_count": 116,
   "metadata": {},
   "outputs": [
    {
     "data": {
      "text/html": [
       "<div>\n",
       "<style scoped>\n",
       "    .dataframe tbody tr th:only-of-type {\n",
       "        vertical-align: middle;\n",
       "    }\n",
       "\n",
       "    .dataframe tbody tr th {\n",
       "        vertical-align: top;\n",
       "    }\n",
       "\n",
       "    .dataframe thead th {\n",
       "        text-align: right;\n",
       "    }\n",
       "</style>\n",
       "<table border=\"1\" class=\"dataframe\">\n",
       "  <thead>\n",
       "    <tr style=\"text-align: right;\">\n",
       "      <th></th>\n",
       "      <th>no_account</th>\n",
       "      <th>signed_up</th>\n",
       "      <th>email_validated</th>\n",
       "      <th>admin</th>\n",
       "      <th>in_revision</th>\n",
       "      <th>deactivated</th>\n",
       "    </tr>\n",
       "  </thead>\n",
       "  <tbody>\n",
       "    <tr>\n",
       "      <th>try_sign_up</th>\n",
       "      <td>NaN</td>\n",
       "      <td>NaN</td>\n",
       "      <td>NaN</td>\n",
       "      <td>NaN</td>\n",
       "      <td>NaN</td>\n",
       "      <td>NaN</td>\n",
       "    </tr>\n",
       "    <tr>\n",
       "      <th>deactivate_account</th>\n",
       "      <td>NaN</td>\n",
       "      <td>NaN</td>\n",
       "      <td>NaN</td>\n",
       "      <td>NaN</td>\n",
       "      <td>NaN</td>\n",
       "      <td>NaN</td>\n",
       "    </tr>\n",
       "    <tr>\n",
       "      <th>post_information</th>\n",
       "      <td>NaN</td>\n",
       "      <td>NaN</td>\n",
       "      <td>NaN</td>\n",
       "      <td>NaN</td>\n",
       "      <td>NaN</td>\n",
       "      <td>NaN</td>\n",
       "    </tr>\n",
       "    <tr>\n",
       "      <th>reactivate_account</th>\n",
       "      <td>NaN</td>\n",
       "      <td>NaN</td>\n",
       "      <td>NaN</td>\n",
       "      <td>NaN</td>\n",
       "      <td>NaN</td>\n",
       "      <td>NaN</td>\n",
       "    </tr>\n",
       "  </tbody>\n",
       "</table>\n",
       "</div>"
      ],
      "text/plain": [
       "                   no_account signed_up email_validated admin in_revision  \\\n",
       "try_sign_up               NaN       NaN             NaN   NaN         NaN   \n",
       "deactivate_account        NaN       NaN             NaN   NaN         NaN   \n",
       "post_information          NaN       NaN             NaN   NaN         NaN   \n",
       "reactivate_account        NaN       NaN             NaN   NaN         NaN   \n",
       "\n",
       "                   deactivated  \n",
       "try_sign_up                NaN  \n",
       "deactivate_account         NaN  \n",
       "post_information           NaN  \n",
       "reactivate_account         NaN  "
      ]
     },
     "execution_count": 116,
     "metadata": {},
     "output_type": "execute_result"
    }
   ],
   "source": [
    "table"
   ]
  },
  {
   "cell_type": "markdown",
   "metadata": {},
   "source": [
    "We need a way to check the current state. In Python this would normally be done by creating an object which holds the state of its instance. In our case it would me having an instance or `user` that we would need to pass around. By creating `user` as a state machine we could manage it by only giving inputs and letting the state machine manage the processing [link to library]. Here we are doing it in a functional way."
   ]
  },
  {
   "cell_type": "code",
   "execution_count": 104,
   "metadata": {},
   "outputs": [],
   "source": [
    "def check_state(user_id: str):\n",
    "    \n",
    "    if user_id not in users_db:\n",
    "        \n",
    "        return States.no_account\n",
    "    \n",
    "    state = users_db[user_id]\n",
    "    \n",
    "    return state"
   ]
  },
  {
   "cell_type": "code",
   "execution_count": 105,
   "metadata": {},
   "outputs": [
    {
     "data": {
      "text/plain": [
       "<States.no_account: 1>"
      ]
     },
     "execution_count": 105,
     "metadata": {},
     "output_type": "execute_result"
    }
   ],
   "source": [
    "check_state(\"ZRwu4SydyYV2NETiRAnZmM\")"
   ]
  },
  {
   "cell_type": "markdown",
   "metadata": {},
   "source": [
    "For each pair input - state there is a callback to do an action. We need to create our stateless functions and the asign each one to a pair:"
   ]
  },
  {
   "cell_type": "code",
   "execution_count": 122,
   "metadata": {},
   "outputs": [],
   "source": [
    "def sign_up():\n",
    "    pass\n",
    "\n",
    "def check_your_email():\n",
    "    pass\n",
    "\n",
    "def already_has_account():\n",
    "    pass\n",
    "\n",
    "def in_revision():\n",
    "    pass\n",
    "\n",
    "def not_allowed():\n",
    "    pass\n",
    "\n",
    "def no_account():\n",
    "    pass\n",
    "\n",
    "def deactivate():\n",
    "    pass\n",
    "\n",
    "def deactivate_admin():\n",
    "    pass\n",
    "\n",
    "def already_deactivated():\n",
    "    pass\n",
    "\n",
    "def post_info():\n",
    "    pass\n",
    "\n",
    "\n",
    "def reactivate():\n",
    "    pass"
   ]
  },
  {
   "cell_type": "code",
   "execution_count": 112,
   "metadata": {},
   "outputs": [],
   "source": [
    "table.loc[\"try_sign_up\"][\"no_account\"] = sign_up\n",
    "table.loc[\"try_sign_up\"][\"signed_up\"] = check_your_email\n",
    "table.loc[\"try_sign_up\"][\"email_validated\"] = already_has_account\n",
    "table.loc[\"try_sign_up\"][\"admin\"] = already_has_account\n",
    "table.loc[\"try_sign_up\"][\"in_revision\"] = in_revision\n",
    "table.loc[\"try_sign_up\"][\"deactivated\"] = not_allowed"
   ]
  },
  {
   "cell_type": "code",
   "execution_count": 119,
   "metadata": {},
   "outputs": [],
   "source": [
    "table.loc[\"deactivate_account\"][\"no_account\"] = no_account\n",
    "table.loc[\"deactivate_account\"][\"signed_up\"] = deactivate\n",
    "table.loc[\"deactivate_account\"][\"email_validated\"] = deactivate\n",
    "table.loc[\"deactivate_account\"][\"admin\"] = deactivate_admin\n",
    "table.loc[\"deactivate_account\"][\"in_revision\"] = in_revision\n",
    "table.loc[\"deactivate_account\"][\"deactivated\"] = already_deactivated"
   ]
  },
  {
   "cell_type": "code",
   "execution_count": 121,
   "metadata": {},
   "outputs": [],
   "source": [
    "table.loc[\"post_information\"][\"no_account\"] = not_allowed\n",
    "table.loc[\"post_information\"][\"signed_up\"] = not_allowed\n",
    "table.loc[\"post_information\"][\"email_validated\"] = post_info\n",
    "table.loc[\"post_information\"][\"admin\"] = post_info\n",
    "table.loc[\"post_information\"][\"in_revision\"] = not_allowed\n",
    "table.loc[\"post_information\"][\"deactivated\"] = not_allowed"
   ]
  },
  {
   "cell_type": "code",
   "execution_count": 123,
   "metadata": {},
   "outputs": [],
   "source": [
    "table.loc[\"reactivate_account\"][\"no_account\"] = no_account\n",
    "table.loc[\"reactivate_account\"][\"signed_up\"] = already_has_account\n",
    "table.loc[\"reactivate_account\"][\"email_validated\"] = already_has_account\n",
    "table.loc[\"reactivate_account\"][\"admin\"] = already_has_account\n",
    "table.loc[\"reactivate_account\"][\"in_revision\"] = in_revision\n",
    "table.loc[\"reactivate_account\"][\"deactivated\"] = reactivate"
   ]
  },
  {
   "cell_type": "code",
   "execution_count": 106,
   "metadata": {},
   "outputs": [],
   "source": [
    "def do_input(user_id: str, action: Inputs):\n",
    "    \n",
    "    state = check_state(user_id)"
   ]
  },
  {
   "cell_type": "code",
   "execution_count": null,
   "metadata": {},
   "outputs": [],
   "source": []
  },
  {
   "cell_type": "code",
   "execution_count": null,
   "metadata": {},
   "outputs": [],
   "source": []
  },
  {
   "cell_type": "code",
   "execution_count": 42,
   "metadata": {},
   "outputs": [],
   "source": [
    "def f():\n",
    "    return 1"
   ]
  },
  {
   "cell_type": "code",
   "execution_count": 43,
   "metadata": {},
   "outputs": [],
   "source": [
    "states = pd.DataFrame(\n",
    "    columns=[f\"State {s}\" for s in range(n_states)],\n",
    "    index=[f\"Input {i}\" for i in range(n_inputs)] + [f],\n",
    ")"
   ]
  },
  {
   "cell_type": "code",
   "execution_count": 44,
   "metadata": {},
   "outputs": [],
   "source": [
    "def get_states(callback):\n",
    "    \n",
    "    return states.loc[lambda x: callback]"
   ]
  },
  {
   "cell_type": "markdown",
   "metadata": {},
   "source": [
    "How to index a dataframe with a function."
   ]
  },
  {
   "cell_type": "code",
   "execution_count": 45,
   "metadata": {},
   "outputs": [
    {
     "data": {
      "text/plain": [
       "State 0    NaN\n",
       "State 1    NaN\n",
       "State 2    NaN\n",
       "State 3    NaN\n",
       "State 4    NaN\n",
       "Name: <function f at 0x117b2db00>, dtype: object"
      ]
     },
     "execution_count": 45,
     "metadata": {},
     "output_type": "execute_result"
    }
   ],
   "source": [
    "states.loc[lambda x: f]"
   ]
  },
  {
   "cell_type": "markdown",
   "metadata": {},
   "source": [
    "Define the possible states"
   ]
  },
  {
   "cell_type": "code",
   "execution_count": null,
   "metadata": {},
   "outputs": [],
   "source": [
    "def sign_up():\n",
    "    \n",
    "    return states.signed_up"
   ]
  },
  {
   "cell_type": "code",
   "execution_count": null,
   "metadata": {},
   "outputs": [],
   "source": [
    "callbacks = [\n",
    "    \n",
    "    \n",
    "    \n",
    "]"
   ]
  },
  {
   "cell_type": "code",
   "execution_count": 67,
   "metadata": {},
   "outputs": [
    {
     "data": {
      "text/plain": [
       "nan"
      ]
     },
     "execution_count": 67,
     "metadata": {},
     "output_type": "execute_result"
    }
   ],
   "source": [
    "table.loc[\"try_sign_up\"][\"no_account\"]"
   ]
  },
  {
   "cell_type": "code",
   "execution_count": null,
   "metadata": {},
   "outputs": [],
   "source": []
  },
  {
   "cell_type": "code",
   "execution_count": null,
   "metadata": {},
   "outputs": [],
   "source": []
  },
  {
   "cell_type": "code",
   "execution_count": 58,
   "metadata": {},
   "outputs": [
    {
     "data": {
      "text/plain": [
       "<States.no_account: 1>"
      ]
     },
     "execution_count": 58,
     "metadata": {},
     "output_type": "execute_result"
    }
   ],
   "source": [
    "States[\"no_account\"]"
   ]
  },
  {
   "cell_type": "code",
   "execution_count": 48,
   "metadata": {},
   "outputs": [
    {
     "data": {
      "text/plain": [
       "<States.create_account: 1>"
      ]
     },
     "execution_count": 48,
     "metadata": {},
     "output_type": "execute_result"
    }
   ],
   "source": [
    "States.create_account"
   ]
  },
  {
   "cell_type": "code",
   "execution_count": null,
   "metadata": {},
   "outputs": [],
   "source": []
  },
  {
   "cell_type": "code",
   "execution_count": null,
   "metadata": {},
   "outputs": [],
   "source": []
  },
  {
   "cell_type": "code",
   "execution_count": null,
   "metadata": {},
   "outputs": [],
   "source": []
  },
  {
   "cell_type": "code",
   "execution_count": null,
   "metadata": {},
   "outputs": [],
   "source": []
  },
  {
   "cell_type": "code",
   "execution_count": null,
   "metadata": {},
   "outputs": [],
   "source": []
  },
  {
   "cell_type": "markdown",
   "metadata": {},
   "source": [
    "Note on enums from pymotw\n",
    "\n",
    "Unique Enumeration Values\n",
    "Enum members with the same value are tracked as alias references to the same member object. Aliases do not cause repeated values to be present in the iterator for the Enum.\n",
    "```\n",
    "enum_aliases.py\n",
    "import enum\n",
    "\n",
    "\n",
    "class BugStatus(enum.Enum):\n",
    "\n",
    "    new = 7\n",
    "    incomplete = 6\n",
    "    invalid = 5\n",
    "    wont_fix = 4\n",
    "    in_progress = 3\n",
    "    fix_committed = 2\n",
    "    fix_released = 1\n",
    "\n",
    "    by_design = 4\n",
    "    closed = 1\n",
    "\n",
    "\n",
    "for status in BugStatus:\n",
    "    print('{:15} = {}'.format(status.name, status.value))\n",
    "\n",
    "print('\\nSame: by_design is wont_fix: ',\n",
    "      BugStatus.by_design is BugStatus.wont_fix)\n",
    "print('Same: closed is fix_released: ',\n",
    "      BugStatus.closed is BugStatus.fix_released)\n",
    "```\n",
    "\n",
    "Because by_design and closed are aliases for other members, they do not appear separately in the output when iterating over the Enum. The canonical name for a member is the first name attached to the value.\n",
    "\n",
    "```\n",
    "$ python3 enum_aliases.py\n",
    "\n",
    "new             = 7\n",
    "incomplete      = 6\n",
    "invalid         = 5\n",
    "wont_fix        = 4\n",
    "in_progress     = 3\n",
    "fix_committed   = 2\n",
    "fix_released    = 1\n",
    "\n",
    "Same: by_design is wont_fix:  True\n",
    "Same: closed is fix_released:  True\n",
    "```"
   ]
  },
  {
   "cell_type": "code",
   "execution_count": 11,
   "metadata": {},
   "outputs": [],
   "source": [
    "states = pd.DataFrame(state_dict)"
   ]
  },
  {
   "cell_type": "code",
   "execution_count": 12,
   "metadata": {},
   "outputs": [
    {
     "data": {
      "text/html": [
       "<div>\n",
       "<style scoped>\n",
       "    .dataframe tbody tr th:only-of-type {\n",
       "        vertical-align: middle;\n",
       "    }\n",
       "\n",
       "    .dataframe tbody tr th {\n",
       "        vertical-align: top;\n",
       "    }\n",
       "\n",
       "    .dataframe thead th {\n",
       "        text-align: right;\n",
       "    }\n",
       "</style>\n",
       "<table border=\"1\" class=\"dataframe\">\n",
       "  <thead>\n",
       "    <tr style=\"text-align: right;\">\n",
       "      <th></th>\n",
       "      <th>State 0</th>\n",
       "      <th>State 1</th>\n",
       "      <th>State 2</th>\n",
       "      <th>State 3</th>\n",
       "      <th>State 4</th>\n",
       "    </tr>\n",
       "  </thead>\n",
       "  <tbody>\n",
       "    <tr>\n",
       "      <th>0</th>\n",
       "      <td>None</td>\n",
       "      <td>None</td>\n",
       "      <td>None</td>\n",
       "      <td>None</td>\n",
       "      <td>None</td>\n",
       "    </tr>\n",
       "    <tr>\n",
       "      <th>1</th>\n",
       "      <td>None</td>\n",
       "      <td>None</td>\n",
       "      <td>None</td>\n",
       "      <td>None</td>\n",
       "      <td>None</td>\n",
       "    </tr>\n",
       "    <tr>\n",
       "      <th>2</th>\n",
       "      <td>None</td>\n",
       "      <td>None</td>\n",
       "      <td>None</td>\n",
       "      <td>None</td>\n",
       "      <td>None</td>\n",
       "    </tr>\n",
       "    <tr>\n",
       "      <th>3</th>\n",
       "      <td>None</td>\n",
       "      <td>None</td>\n",
       "      <td>None</td>\n",
       "      <td>None</td>\n",
       "      <td>None</td>\n",
       "    </tr>\n",
       "    <tr>\n",
       "      <th>4</th>\n",
       "      <td>None</td>\n",
       "      <td>None</td>\n",
       "      <td>None</td>\n",
       "      <td>None</td>\n",
       "      <td>None</td>\n",
       "    </tr>\n",
       "    <tr>\n",
       "      <th>5</th>\n",
       "      <td>None</td>\n",
       "      <td>None</td>\n",
       "      <td>None</td>\n",
       "      <td>None</td>\n",
       "      <td>None</td>\n",
       "    </tr>\n",
       "    <tr>\n",
       "      <th>6</th>\n",
       "      <td>None</td>\n",
       "      <td>None</td>\n",
       "      <td>None</td>\n",
       "      <td>None</td>\n",
       "      <td>None</td>\n",
       "    </tr>\n",
       "    <tr>\n",
       "      <th>7</th>\n",
       "      <td>None</td>\n",
       "      <td>None</td>\n",
       "      <td>None</td>\n",
       "      <td>None</td>\n",
       "      <td>None</td>\n",
       "    </tr>\n",
       "    <tr>\n",
       "      <th>8</th>\n",
       "      <td>None</td>\n",
       "      <td>None</td>\n",
       "      <td>None</td>\n",
       "      <td>None</td>\n",
       "      <td>None</td>\n",
       "    </tr>\n",
       "    <tr>\n",
       "      <th>9</th>\n",
       "      <td>None</td>\n",
       "      <td>None</td>\n",
       "      <td>None</td>\n",
       "      <td>None</td>\n",
       "      <td>None</td>\n",
       "    </tr>\n",
       "  </tbody>\n",
       "</table>\n",
       "</div>"
      ],
      "text/plain": [
       "  State 0 State 1 State 2 State 3 State 4\n",
       "0    None    None    None    None    None\n",
       "1    None    None    None    None    None\n",
       "2    None    None    None    None    None\n",
       "3    None    None    None    None    None\n",
       "4    None    None    None    None    None\n",
       "5    None    None    None    None    None\n",
       "6    None    None    None    None    None\n",
       "7    None    None    None    None    None\n",
       "8    None    None    None    None    None\n",
       "9    None    None    None    None    None"
      ]
     },
     "execution_count": 12,
     "metadata": {},
     "output_type": "execute_result"
    }
   ],
   "source": [
    "states"
   ]
  },
  {
   "cell_type": "code",
   "execution_count": 5,
   "metadata": {},
   "outputs": [
    {
     "data": {
      "text/plain": [
       "array([[0., 0., 0., 0., 0.],\n",
       "       [0., 0., 0., 0., 0.],\n",
       "       [0., 0., 0., 0., 0.],\n",
       "       [0., 0., 0., 0., 0.],\n",
       "       [0., 0., 0., 0., 0.],\n",
       "       [0., 0., 0., 0., 0.],\n",
       "       [0., 0., 0., 0., 0.],\n",
       "       [0., 0., 0., 0., 0.],\n",
       "       [0., 0., 0., 0., 0.],\n",
       "       [0., 0., 0., 0., 0.]])"
      ]
     },
     "execution_count": 5,
     "metadata": {},
     "output_type": "execute_result"
    }
   ],
   "source": [
    "np.zeros((n_inputs, n_states))"
   ]
  },
  {
   "cell_type": "code",
   "execution_count": null,
   "metadata": {},
   "outputs": [],
   "source": [
    "state = "
   ]
  }
 ],
 "metadata": {
  "kernelspec": {
   "display_name": "testing",
   "language": "python",
   "name": "testing"
  },
  "language_info": {
   "codemirror_mode": {
    "name": "ipython",
    "version": 3
   },
   "file_extension": ".py",
   "mimetype": "text/x-python",
   "name": "python",
   "nbconvert_exporter": "python",
   "pygments_lexer": "ipython3",
   "version": "3.7.7"
  }
 },
 "nbformat": 4,
 "nbformat_minor": 4
}
