{
 "cells": [
  {
   "cell_type": "markdown",
   "metadata": {},
   "source": [
    "# Linking notebooks\n",
    "  \n",
    "Date: 2019-07-25  \n",
    "Author: Ricardo  \n",
    "Categories: tips, jupyter, notebook, trick  \n",
    "Tags: jupyter, notebook, trick\n",
    "<!--eofm-->"
   ]
  },
  {
   "cell_type": "markdown",
   "metadata": {},
   "source": [
    "There is a little trick I just found about, which I think can be very useful when you split tasks across different notebooks.\n",
    "<!--more-->"
   ]
  },
  {
   "cell_type": "markdown",
   "metadata": {},
   "source": [
    "Jupyter notebooks keep gaining popularity and use cases, the rapid growth of the tooling ecosystem around it is just one proof (for example [voilà](https://github.com/QuantStack/voila) or [panel](https://panel.pyviz.org/).\n",
    "\n",
    "Most people choose Jupyter when publishing a course or tutorial on Github and that's great, but wheen there are a lot of notebooks it can become messy.\n",
    "\n",
    "I am now working on a project and I'm separating tasks in different notebooks like:\n",
    "\n",
    "```markdown\n",
    "01.task1.ipynb\n",
    "02.task2.ipynb\n",
    "03.task3.ipynb\n",
    ".\n",
    ".\n",
    ".\n",
    "```\n",
    "\n",
    "And I found you can link a notebook from another one like you would link to a normal website:\n",
    "\n",
    "```markdown\n",
    "\n",
    "[task foo](../notebooks/02.task2.ipynb)\n",
    "```"
   ]
  },
  {
   "cell_type": "markdown",
   "metadata": {},
   "source": [
    "Even though this is something very simple, I think it can be useful at work or if you are distributing a book as Jupyter notebooks and need to refer to a previous notebook/chapter. This way you are only one click away and don't need to llok for it!"
   ]
  }
 ],
 "metadata": {
  "kernelspec": {
   "display_name": "Python 3",
   "language": "python",
   "name": "python3"
  },
  "language_info": {
   "codemirror_mode": {
    "name": "ipython",
    "version": 3
   },
   "file_extension": ".py",
   "mimetype": "text/x-python",
   "name": "python",
   "nbconvert_exporter": "python",
   "pygments_lexer": "ipython3",
   "version": "3.7.3"
  }
 },
 "nbformat": 4,
 "nbformat_minor": 4
}
