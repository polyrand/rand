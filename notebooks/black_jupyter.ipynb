{
 "cells": [
  {
   "cell_type": "markdown",
   "metadata": {},
   "source": [
    "# Black ❤ Jupyter\n",
    "  \n",
    "Date: 2019-07-22  \n",
    "Author: Ricardo  \n",
    "Categories: tips, formatting, pandas  \n",
    "Tags: pandas, formatting, black, code, comprehension, list  \n",
    "<!--eofm-->"
   ]
  },
  {
   "cell_type": "markdown",
   "metadata": {},
   "source": [
    "After nearly a year coding in Python (although not consistently), I started trying code formatters and discovered they were more useful than I thought. Here are some reason why.\n",
    "<!--more-->"
   ]
  },
  {
   "cell_type": "markdown",
   "metadata": {},
   "source": [
    "First of all I must admit these tips may be biased by the fact I use [Jupyter Notebooks](https://jupyterlab.readthedocs.io/en/stable/) quite a lot. I think they are an incredible tool for learning although they may also instill some bad coding habits.\n",
    "\n",
    "Before talking about [black](https://github.com/psf/black) lets go through the step to install it and use it with Jupyter Notebooks.\n",
    "\n",
    "## Installing black and using it with Jupyter\n",
    "\n",
    "Luckily for us, there is a Jupyterlab [extension](https://github.com/ryantam626/jupyterlab_code_formatter) for code formatting. To get started you only need 4 commands if you are using **conda**:\n",
    "\n",
    "```bash\n",
    "conda install -c conda-forge black\n",
    "jupyter labextension install @ryantam626/jupyterlab_code_formatter\n",
    "conda install -c conda-forge jupyterlab_code_formatter\n",
    "jupyter serverextension enable --py jupyterlab_code_formatter\n",
    "```\n",
    "\n",
    "If you are using **pip** you need to install the one of the supported formatters (black in this case) and then do:\n",
    "\n",
    "```bash\n",
    "jupyter labextension install @ryantam626/jupyterlab_code_formatter\n",
    "pip install jupyterlab_code_formatter\n",
    "jupyter serverextension enable --py jupyterlab_code_formatter\n",
    "```\n",
    "\n",
    "Finally, what really helps me using black continuously, is having a handy shortcut to run it in the current cell. In my case I use **ctrl + k**, you can add it to your jupyterlab shortcuts pasting the following in your shortcuts settings editor:\n",
    "\n",
    "```json\n",
    "{\n",
    "\n",
    "    \"shortcuts\": [\n",
    "    {\n",
    "                \"command\": \"jupyterlab_code_formatter:black\",\n",
    "                \"keys\": [\n",
    "                    \"Ctrl K\"\n",
    "                ],\n",
    "                \"selector\": \".jp-Notebook.jp-mod-editMode\"\n",
    "            }\n",
    "        ]\n",
    "}\n",
    "```"
   ]
  },
  {
   "cell_type": "markdown",
   "metadata": {},
   "source": [
    "Now lets go back to code ❗️\n",
    "\n",
    "## Pandas method chaining\n",
    "\n",
    "I believe one of those bad habits that Jupyter creates is writing code that doesn't look very clean when used outside the notebook. One case can be when using [method-chaining](https://tomaugspurger.github.io/method-chaining) in Pandas, which is the currently promoted style when cleaning data. Lets look at an example."
   ]
  },
  {
   "cell_type": "code",
   "execution_count": 46,
   "metadata": {},
   "outputs": [],
   "source": [
    "def read_messages(path):\n",
    "    df = (\n",
    "        pd.read_csv(\n",
    "            path,\n",
    "            delimiter=\";\",\n",
    "            dtype={\"id\": \"int\",\n",
    "                   \"type\": \"category\",\n",
    "                   \"title\": \"str\",\n",
    "                   \"text\": \"str\"})\n",
    "        .drop([\"Unnamed: 0\"], axis=1)\n",
    "        # dates\n",
    "        .assign(date=lambda x: pd.to_datetime(x[\"date\"], format=\"%Y-%m-%d %H:%M:%S\"),\n",
    "                date_start=lambda x: pd.to_datetime(x[\"date_start\"], format=\"%Y-%m-%d %H:%M:%S\"),\n",
    "                date_end=lambda x: pd.to_datetime(x[\"date_end\"], format=\"%Y-%m-%d %H:%M:%S\"))\n",
    "        # others\n",
    "        .assign(txt_length=lambda x: x.text.str.len(),\n",
    "                word_number=lambda x: x.text.str.split().apply(len),\n",
    "                date=lambda x: pd.to_datetime(x[\"date\"].apply(lambda y: y.strftime(\"%Y-%m-%d\")), format=\"%Y-%m-%d\",),\n",
    "                hour=lambda x: x[\"date\"].apply(lambda y: y.hour)))\n",
    "\n",
    "    return df"
   ]
  },
  {
   "cell_type": "markdown",
   "metadata": {},
   "source": [
    "That is probably the best we would do if we were writing code and experimenting with data cleaning functions. Even though it looks quite readable (I think when you get used to method chaining it gets a lot easier to read the code), there are a lot of parentheses, indents and long functions.\n",
    "\n",
    "This is how it looks when we apply [black](https://github.com/python/black) to it."
   ]
  },
  {
   "cell_type": "code",
   "execution_count": 47,
   "metadata": {},
   "outputs": [],
   "source": [
    "def read_messages(path):\n",
    "    df = (\n",
    "        pd.read_csv(\n",
    "            path,\n",
    "            delimiter=\";\",\n",
    "            dtype={\"id\": \"int\", \"type\": \"category\", \"title\": \"str\", \"text\": \"str\"},\n",
    "        )\n",
    "        .drop([\"Unnamed: 0\"], axis=1)\n",
    "        # dates\n",
    "        .assign(\n",
    "            date=lambda x: pd.to_datetime(x[\"date\"], format=\"%Y-%m-%d %H:%M:%S\"),\n",
    "            date_start=lambda x: pd.to_datetime(\n",
    "                x[\"date_start\"], format=\"%Y-%m-%d %H:%M:%S\"\n",
    "            ),\n",
    "            date_end=lambda x: pd.to_datetime(\n",
    "                x[\"date_end\"], format=\"%Y-%m-%d %H:%M:%S\"\n",
    "            ),\n",
    "        )\n",
    "        .assign(\n",
    "            txt_length=lambda x: x.text.str.len(),\n",
    "            word_number=lambda x: x.text.str.split().apply(len),\n",
    "            date=lambda x: pd.to_datetime(\n",
    "                x[\"date\"].apply(lambda y: y.strftime(\"%Y-%m-%d\")), format=\"%Y-%m-%d\"\n",
    "            ),\n",
    "            hour=lambda x: x[\"date\"].apply(lambda y: y.hour),\n",
    "        )\n",
    "    )\n",
    "\n",
    "    return df"
   ]
  },
  {
   "cell_type": "markdown",
   "metadata": {},
   "source": [
    "That looks a lot better, and most importantly, it gets incredibily easier to debug when you get an error. At first I thought I would be using black only after I finished writing my functions, but now it's actually the other way around, by constantly keeping the same clean code style I can spot the bugs faster."
   ]
  },
  {
   "cell_type": "markdown",
   "metadata": {},
   "source": [
    "## Long, messy functions\n",
    "\n",
    "Now we are going to simulate a function with many parameters. This example was taken from the great blog [Mouse vs Python](http://www.blog.pythonlibrary.org/2019/07/16/intro-to-black-the-uncompromising-python-code-formatter/) by [Mike Driscoll](https://twitter.com/driscollis)."
   ]
  },
  {
   "cell_type": "code",
   "execution_count": 48,
   "metadata": {},
   "outputs": [],
   "source": [
    "def long_func(x, param_one=None, param_two=[], param_three={}, param_four=None, param_five=\"\", param_six=123456):\n",
    "    print(f\"{param_three['first']}\")"
   ]
  },
  {
   "cell_type": "markdown",
   "metadata": {},
   "source": [
    "The function takes a lot of (unnecessary) arguments and then prints one of the values of the `dictionary` *param_three*. But what happens if we pass a `list` instead is that we get an error, and we can see that with such a long function, if the parameters were more difficult to debug and read this could turn out in one of these bugs that look abvious to solve but you can't find which parameter you are messing with."
   ]
  },
  {
   "cell_type": "code",
   "execution_count": 49,
   "metadata": {},
   "outputs": [
    {
     "ename": "TypeError",
     "evalue": "list indices must be integers or slices, not str",
     "output_type": "error",
     "traceback": [
      "\u001b[0;31m---------------------------------------------------------------------------\u001b[0m",
      "\u001b[0;31mTypeError\u001b[0m                                 Traceback (most recent call last)",
      "\u001b[0;32m<ipython-input-49-72b71a3bb5df>\u001b[0m in \u001b[0;36m<module>\u001b[0;34m\u001b[0m\n\u001b[0;32m----> 1\u001b[0;31m \u001b[0mlong_func\u001b[0m\u001b[0;34m(\u001b[0m\u001b[0;36m2\u001b[0m\u001b[0;34m,\u001b[0m \u001b[0mparam_one\u001b[0m\u001b[0;34m=\u001b[0m\u001b[0;32mNone\u001b[0m\u001b[0;34m,\u001b[0m \u001b[0mparam_two\u001b[0m\u001b[0;34m=\u001b[0m\u001b[0;34m[\u001b[0m\u001b[0;34m]\u001b[0m\u001b[0;34m,\u001b[0m \u001b[0mparam_three\u001b[0m\u001b[0;34m=\u001b[0m\u001b[0;34m[\u001b[0m\u001b[0;34m'cat'\u001b[0m\u001b[0;34m]\u001b[0m\u001b[0;34m,\u001b[0m \u001b[0mparam_four\u001b[0m\u001b[0;34m=\u001b[0m\u001b[0;32mNone\u001b[0m\u001b[0;34m,\u001b[0m \u001b[0mparam_five\u001b[0m\u001b[0;34m=\u001b[0m\u001b[0;34m\"\"\u001b[0m\u001b[0;34m,\u001b[0m \u001b[0mparam_six\u001b[0m\u001b[0;34m=\u001b[0m\u001b[0;36m123456\u001b[0m\u001b[0;34m)\u001b[0m\u001b[0;34m\u001b[0m\u001b[0;34m\u001b[0m\u001b[0m\n\u001b[0m",
      "\u001b[0;32m<ipython-input-48-748a355c1dbb>\u001b[0m in \u001b[0;36mlong_func\u001b[0;34m(x, param_one, param_two, param_three, param_four, param_five, param_six)\u001b[0m\n\u001b[1;32m      1\u001b[0m \u001b[0;32mdef\u001b[0m \u001b[0mlong_func\u001b[0m\u001b[0;34m(\u001b[0m\u001b[0mx\u001b[0m\u001b[0;34m,\u001b[0m \u001b[0mparam_one\u001b[0m\u001b[0;34m=\u001b[0m\u001b[0;32mNone\u001b[0m\u001b[0;34m,\u001b[0m \u001b[0mparam_two\u001b[0m\u001b[0;34m=\u001b[0m\u001b[0;34m[\u001b[0m\u001b[0;34m]\u001b[0m\u001b[0;34m,\u001b[0m \u001b[0mparam_three\u001b[0m\u001b[0;34m=\u001b[0m\u001b[0;34m{\u001b[0m\u001b[0;34m}\u001b[0m\u001b[0;34m,\u001b[0m \u001b[0mparam_four\u001b[0m\u001b[0;34m=\u001b[0m\u001b[0;32mNone\u001b[0m\u001b[0;34m,\u001b[0m \u001b[0mparam_five\u001b[0m\u001b[0;34m=\u001b[0m\u001b[0;34m\"\"\u001b[0m\u001b[0;34m,\u001b[0m \u001b[0mparam_six\u001b[0m\u001b[0;34m=\u001b[0m\u001b[0;36m123456\u001b[0m\u001b[0;34m)\u001b[0m\u001b[0;34m:\u001b[0m\u001b[0;34m\u001b[0m\u001b[0;34m\u001b[0m\u001b[0m\n\u001b[0;32m----> 2\u001b[0;31m     \u001b[0mprint\u001b[0m\u001b[0;34m(\u001b[0m\u001b[0;34mf\"{param_three['first']}\"\u001b[0m\u001b[0;34m)\u001b[0m\u001b[0;34m\u001b[0m\u001b[0;34m\u001b[0m\u001b[0m\n\u001b[0m",
      "\u001b[0;31mTypeError\u001b[0m: list indices must be integers or slices, not str"
     ]
    }
   ],
   "source": [
    "long_func(2, param_one=None, param_two=[], param_three=['cat'], param_four=None, param_five=\"\", param_six=123456)"
   ]
  },
  {
   "cell_type": "markdown",
   "metadata": {},
   "source": [
    "This is how it looks like after applying black, a lot better!"
   ]
  },
  {
   "cell_type": "code",
   "execution_count": 50,
   "metadata": {},
   "outputs": [],
   "source": [
    "def long_func(\n",
    "    x,\n",
    "    param_one=None,\n",
    "    param_two=[],\n",
    "    param_three={},\n",
    "    param_four=None,\n",
    "    param_five=\"\",\n",
    "    param_six=123456,\n",
    "):\n",
    "    print(f\"{param_three['first']}\")"
   ]
  },
  {
   "cell_type": "markdown",
   "metadata": {},
   "source": [
    "Even if we wanted to do type annotations it would be easy to read:"
   ]
  },
  {
   "cell_type": "code",
   "execution_count": 51,
   "metadata": {},
   "outputs": [],
   "source": [
    "from typing import List, Dict, Tuple\n",
    "\n",
    "\n",
    "def long_func(\n",
    "    x,\n",
    "    param_one: int = None,\n",
    "    param_two: List = [],\n",
    "    param_three: Dict = {},\n",
    "    param_four: Tuple = None,\n",
    "    param_five: str = \"\",\n",
    "    param_six: float = 123456.34,\n",
    ") -> None:\n",
    "\n",
    "    print(f\"{param_three['first']}\")"
   ]
  },
  {
   "cell_type": "markdown",
   "metadata": {},
   "source": [
    "Another thing I love about black is that it won't reformat the code if there are syntax mistakes, and sometimes this has let me spot the before executing a slow function, which would have made me notice the error only during runtime.\n",
    "\n",
    "For example in the function above if we had used `-->` for the return value annotation instead of `->` (this has happened to me very often), black would not have changed the original (unreadable) function."
   ]
  },
  {
   "cell_type": "code",
   "execution_count": 52,
   "metadata": {},
   "outputs": [
    {
     "ename": "SyntaxError",
     "evalue": "invalid syntax (<ipython-input-52-eac28ca8f8ab>, line 3)",
     "output_type": "error",
     "traceback": [
      "\u001b[0;36m  File \u001b[0;32m\"<ipython-input-52-eac28ca8f8ab>\"\u001b[0;36m, line \u001b[0;32m3\u001b[0m\n\u001b[0;31m    param_six: float = 123456.34) --> bool:\u001b[0m\n\u001b[0m                                  ^\u001b[0m\n\u001b[0;31mSyntaxError\u001b[0m\u001b[0;31m:\u001b[0m invalid syntax\n"
     ]
    }
   ],
   "source": [
    "def long_func(x, param_one: int = None, param_two: List = [], param_three: Dict = {},\n",
    "              param_four: Tuple = None, param_five: str = \"\",\n",
    "              param_six: float = 123456.34) --> bool:\n",
    "                                    ##     ^^^^ this is not correct\n",
    "                                    ##     so this cell won't be formatted\n",
    "                                    ##     when applying black!\n",
    "                                    ##\n",
    "                                    ##     I'm using 'bool' because I added\n",
    "                                    ##     a return True at the end.\n",
    "                            \n",
    "    print(f\"{param_three['first']}\")\n",
    "\n",
    "    return True"
   ]
  },
  {
   "cell_type": "markdown",
   "metadata": {},
   "source": [
    "## Bonus\n",
    "\n",
    "Since we are talking about formatting and debugging, I would like to show something I found recently, and it is the advantages of splitting code in multiple lines.\n",
    "\n",
    "To illustrate it I am going to use list comprehensions. The example is taken from this [blog post](https://treyhunner.com/2019/03/abusing-and-overusing-list-comprehensions-in-python/) by [@treyhunner](https://twitter.com/treyhunner), which I highly recommend.\n",
    "\n",
    "We are going to write a function to get the factors of a number using a list comprehension."
   ]
  },
  {
   "cell_type": "code",
   "execution_count": 53,
   "metadata": {},
   "outputs": [],
   "source": [
    "def get_factors(dividend):\n",
    "    \"\"\"Return a list of all factors of the given number.\"\"\"\n",
    "    return [n for n in range(1, dividend + 1) if dividend % n == 0]"
   ]
  },
  {
   "cell_type": "code",
   "execution_count": 54,
   "metadata": {},
   "outputs": [
    {
     "data": {
      "text/plain": [
       "[1, 2, 67, 134]"
      ]
     },
     "execution_count": 54,
     "metadata": {},
     "output_type": "execute_result"
    }
   ],
   "source": [
    "get_factors(134)"
   ]
  },
  {
   "cell_type": "markdown",
   "metadata": {},
   "source": [
    "But if we happen to mess the variables and we try to add an **int** and a **string**:"
   ]
  },
  {
   "cell_type": "code",
   "execution_count": 55,
   "metadata": {},
   "outputs": [],
   "source": [
    "def get_factors(dividend):\n",
    "    \"\"\"Return a list of all factors of the given number.\"\"\"\n",
    "\n",
    "    num = \"ops, this was supposed to be a number, not a string\"\n",
    "\n",
    "    return [n for n in range(1, dividend + num) if dividend % n == 0]"
   ]
  },
  {
   "cell_type": "code",
   "execution_count": 56,
   "metadata": {},
   "outputs": [
    {
     "ename": "TypeError",
     "evalue": "unsupported operand type(s) for +: 'int' and 'str'",
     "output_type": "error",
     "traceback": [
      "\u001b[0;31m---------------------------------------------------------------------------\u001b[0m",
      "\u001b[0;31mTypeError\u001b[0m                                 Traceback (most recent call last)",
      "\u001b[0;32m<ipython-input-56-dc9aa8e3ca2e>\u001b[0m in \u001b[0;36m<module>\u001b[0;34m\u001b[0m\n\u001b[0;32m----> 1\u001b[0;31m \u001b[0mget_factors\u001b[0m\u001b[0;34m(\u001b[0m\u001b[0;36m134\u001b[0m\u001b[0;34m)\u001b[0m\u001b[0;34m\u001b[0m\u001b[0;34m\u001b[0m\u001b[0m\n\u001b[0m",
      "\u001b[0;32m<ipython-input-55-9abb3284b2d3>\u001b[0m in \u001b[0;36mget_factors\u001b[0;34m(dividend)\u001b[0m\n\u001b[1;32m      4\u001b[0m     \u001b[0mnum\u001b[0m \u001b[0;34m=\u001b[0m \u001b[0;34m\"ops, this was supposed to be a number, not a string\"\u001b[0m\u001b[0;34m\u001b[0m\u001b[0;34m\u001b[0m\u001b[0m\n\u001b[1;32m      5\u001b[0m \u001b[0;34m\u001b[0m\u001b[0m\n\u001b[0;32m----> 6\u001b[0;31m     \u001b[0;32mreturn\u001b[0m \u001b[0;34m[\u001b[0m\u001b[0mn\u001b[0m \u001b[0;32mfor\u001b[0m \u001b[0mn\u001b[0m \u001b[0;32min\u001b[0m \u001b[0mrange\u001b[0m\u001b[0;34m(\u001b[0m\u001b[0;36m1\u001b[0m\u001b[0;34m,\u001b[0m \u001b[0mdividend\u001b[0m \u001b[0;34m+\u001b[0m \u001b[0mnum\u001b[0m\u001b[0;34m)\u001b[0m \u001b[0;32mif\u001b[0m \u001b[0mdividend\u001b[0m \u001b[0;34m%\u001b[0m \u001b[0mn\u001b[0m \u001b[0;34m==\u001b[0m \u001b[0;36m0\u001b[0m\u001b[0;34m]\u001b[0m\u001b[0;34m\u001b[0m\u001b[0;34m\u001b[0m\u001b[0m\n\u001b[0m",
      "\u001b[0;31mTypeError\u001b[0m: unsupported operand type(s) for +: 'int' and 'str'"
     ]
    }
   ],
   "source": [
    "get_factors(134)"
   ]
  },
  {
   "cell_type": "markdown",
   "metadata": {},
   "source": [
    "Now we are getting an error, but we don't know exactly in what part of the comprehensions it is (this is just for illustration, in this case it is very easy to see where the bug is).\n",
    "\n",
    "However, if we had sepparated the comprehension in multiple lines, we would now exactly where the error is:"
   ]
  },
  {
   "cell_type": "code",
   "execution_count": 57,
   "metadata": {},
   "outputs": [
    {
     "ename": "TypeError",
     "evalue": "unsupported operand type(s) for +: 'int' and 'str'",
     "output_type": "error",
     "traceback": [
      "\u001b[0;31m---------------------------------------------------------------------------\u001b[0m",
      "\u001b[0;31mTypeError\u001b[0m                                 Traceback (most recent call last)",
      "\u001b[0;32m<ipython-input-57-88ff78e5b1e0>\u001b[0m in \u001b[0;36m<module>\u001b[0;34m\u001b[0m\n\u001b[1;32m     12\u001b[0m \u001b[0;31m# fmt: on\u001b[0m\u001b[0;34m\u001b[0m\u001b[0;34m\u001b[0m\u001b[0;34m\u001b[0m\u001b[0m\n\u001b[1;32m     13\u001b[0m \u001b[0;34m\u001b[0m\u001b[0m\n\u001b[0;32m---> 14\u001b[0;31m \u001b[0mget_factors\u001b[0m\u001b[0;34m(\u001b[0m\u001b[0;36m134\u001b[0m\u001b[0;34m)\u001b[0m\u001b[0;34m\u001b[0m\u001b[0;34m\u001b[0m\u001b[0m\n\u001b[0m",
      "\u001b[0;32m<ipython-input-57-88ff78e5b1e0>\u001b[0m in \u001b[0;36mget_factors\u001b[0;34m(dividend)\u001b[0m\n\u001b[1;32m      7\u001b[0m     return [\n\u001b[1;32m      8\u001b[0m         \u001b[0mn\u001b[0m\u001b[0;34m\u001b[0m\u001b[0;34m\u001b[0m\u001b[0m\n\u001b[0;32m----> 9\u001b[0;31m         \u001b[0;32mfor\u001b[0m \u001b[0mn\u001b[0m \u001b[0;32min\u001b[0m \u001b[0mrange\u001b[0m\u001b[0;34m(\u001b[0m\u001b[0;36m1\u001b[0m\u001b[0;34m,\u001b[0m \u001b[0mdividend\u001b[0m \u001b[0;34m+\u001b[0m \u001b[0mnum\u001b[0m\u001b[0;34m)\u001b[0m\u001b[0;34m\u001b[0m\u001b[0;34m\u001b[0m\u001b[0m\n\u001b[0m\u001b[1;32m     10\u001b[0m         \u001b[0;32mif\u001b[0m \u001b[0mdividend\u001b[0m \u001b[0;34m%\u001b[0m \u001b[0mn\u001b[0m \u001b[0;34m==\u001b[0m \u001b[0;36m0\u001b[0m\u001b[0;34m\u001b[0m\u001b[0;34m\u001b[0m\u001b[0m\n\u001b[1;32m     11\u001b[0m     ]\n",
      "\u001b[0;31mTypeError\u001b[0m: unsupported operand type(s) for +: 'int' and 'str'"
     ]
    }
   ],
   "source": [
    "# fmt: off\n",
    "def get_factors(dividend):\n",
    "    \"\"\"Return a list of all factors of the given number.\"\"\"\n",
    "    \n",
    "    num = \"ops, this was supposed to be a number, not a string\"\n",
    "\n",
    "    return [\n",
    "        n\n",
    "        for n in range(1, dividend + num)\n",
    "        if dividend % n == 0\n",
    "    ]\n",
    "# fmt: on\n",
    "\n",
    "get_factors(134)"
   ]
  },
  {
   "cell_type": "markdown",
   "metadata": {},
   "source": [
    "We can see the interpreter points at the exact line (9) where the problematic variable is. This can also be useful when creating **pandas pivot tables**, since it's easy to make mistakes the first times you do it.\n",
    "\n",
    "Lastly, notice the comments `# fmt: off` and `# fmt: on`. Those are because black would reformat that function to a one-line comprehension 😂, and with that comments we can avoid it."
   ]
  },
  {
   "cell_type": "code",
   "execution_count": 58,
   "metadata": {},
   "outputs": [],
   "source": [
    "# fmt: off\n",
    "def get_factors(dividend):\n",
    "    \"\"\"Return a list of all factors of the given number.\"\"\"\n",
    "    return [\n",
    "        n\n",
    "        for n in range(1, dividend + 1)\n",
    "        if dividend % n == 0\n",
    "    ]\n",
    "# fmt: on"
   ]
  },
  {
   "cell_type": "markdown",
   "metadata": {},
   "source": [
    "In the end, formatting is something very personal. After starting to use black I found the consistency of the formatting really helped me be more productive and also understand the code faster we I went back to it.\n",
    "\n",
    "The trend with Jupyter notebooks is quite clear, more and more tools keep appearing and more people are using them. One of the use cases for notebooks nowadays is teaching, and there's no doubt why, but being able to split your functions and outputs to make it clearer does not mean unreadable code is allowed. I believe many tutorials would be easier to follow only if the code were kept consistent and readable across notebooks.\n",
    "\n",
    "To sum up, I found using a code formatter while writing code in Jupyter made me a lot more productive and it's something I will thank myself for  if I ever need to reread an old notebook.\n",
    "\n",
    "**I hope you enjoyed it!**"
   ]
  }
 ],
 "metadata": {
  "kernelspec": {
   "display_name": "Python 3",
   "language": "python",
   "name": "python3"
  },
  "language_info": {
   "codemirror_mode": {
    "name": "ipython",
    "version": 3
   },
   "file_extension": ".py",
   "mimetype": "text/x-python",
   "name": "python",
   "nbconvert_exporter": "python",
   "pygments_lexer": "ipython3",
   "version": "3.7.3"
  }
 },
 "nbformat": 4,
 "nbformat_minor": 4
}
