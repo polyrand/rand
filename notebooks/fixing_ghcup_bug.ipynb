{
 "cells": [
  {
   "cell_type": "markdown",
   "metadata": {},
   "source": [
    "# Fixing my first Open Source bug\n",
    "  \n",
    "Date: 2020-01-16  \n",
    "Author: Ricardo  \n",
    "Categories: open source, haskell, bugs  \n",
    "Tags: haskell, ghcup, open source, git, gitlab, github  \n",
    "<!--eofm-->"
   ]
  },
  {
   "cell_type": "markdown",
   "metadata": {},
   "source": [
    "I found a bug in the default Haskell installer [ghcup](https://gitlab.haskell.org/haskell/ghcup), fixed it in my computer and had the fix merged to the public installer.\n",
    "<!--more-->"
   ]
  },
  {
   "cell_type": "markdown",
   "metadata": {},
   "source": [
    "I started doing the MIT course [Programming with Categories](http://brendanfong.com/programmingcats.html) so I had to install Haskell on my computer. But following the recommended method kept throwing me an error: `mktemp: too few X's in template ‘ghcup’`. After some time searching I could only find 1 discussion where someone had had a similar problem.\n",
    "\n",
    "After learning a bit about [mktemp](https://www.gnu.org/software/coreutils/manual/html_node/mktemp-invocation.html) and digging into the installer [script](https://gitlab.haskell.org/haskell/ghcup/blob/master/ghcup), I discovered that different versions of mktemp had different behaviours. In my case I had two installed, the one coming by default with macOS, placed in `/usr/bin` and a different one installed by brew when installing [coreutils](https://formulae.brew.sh/formula/coreutils). \n",
    "\n",
    "I modified the installer script like so:\n",
    "\n",
    "`mktemp -d -t ghcup` => `mktemp -d -t ghcup.XXXXXXX`\n",
    "\n",
    "Everything suddenly worked. I openned an issue and a [pull request in the ghcup repository](https://gitlab.haskell.org/haskell/ghcup/merge_requests/137), and a few hours later it was merged!\n",
    "\n",
    "The only problem we could think of was breaking the installer for other mac OS / OS X versions, and that's something I also asked myself at first."
   ]
  },
  {
   "cell_type": "markdown",
   "metadata": {},
   "source": [
    "My guess is that \"ghcup.XXXXXXX\" would be evaluated as a string anyway, the same way \"ghcup\" alone is evaluated. I'm currently not planning to upgrade to the latest macOS version, so I couldn't test it with macOS Catalina or with older versions. I made some tests on my computer though:\n",
    "\n",
    "Using **native** mktemp, the one that comes with macOS (`/usr/bin/mktemp`):\n",
    "\n",
    "* `/usr/bin/mktemp -d -t ghcup.XXXX` creates a folder named: *ghcup.XXXX.r2OBbQRF*\n",
    "\n",
    "* `/usr/bin/mktemp -d -t ghcupXXXX` (without the dot) creates a folder named: *ghcupXXXX.wEPBMrGh*\n",
    "\n",
    "* `/usr/bin/mktemp -d -t ghcup` (the one that runs in macOS **without** coreutils installed) creates a folder named: *ghcup.8fAcY5LC*\n",
    "\n",
    "Using **coreutils** (GNU) mktemp v. 8.31, the default one in my computer, installed with homebrew (`/usr/local/opt/coreutils/libexec/gnubin/mktemp`):\n",
    "\n",
    "* `mktemp -d -t ghcup.XXXX` creates a folder named: *ghcup.7Gwj*\n",
    "\n",
    "* `mktemp -d -t ghcup.XXXX` (without the dot) creates a folder named: *ghcup3jJS*\n",
    "\n",
    "* `mktemp -d -t ghcup`(the one throwing the error) returns: *mktemp: too few X's in template ‘ghcup’*"
   ]
  },
  {
   "cell_type": "markdown",
   "metadata": {},
   "source": [
    "After the merge I tried installing Haskell with the default installation [method/command](https://www.haskell.org/ghcup/) and boom 💥, everythin worked smoothly. "
   ]
  },
  {
   "cell_type": "markdown",
   "metadata": {},
   "source": [
    "I know this is a very subtle bug that did not requiere extensive research for months to fix, but thinking that maybe someone else had, or could, run into the same problem before; and that this could be the fix for it makes me feel really good 😄."
   ]
  }
 ],
 "metadata": {
  "kernelspec": {
   "display_name": "Python 3",
   "language": "python",
   "name": "python3"
  },
  "language_info": {
   "codemirror_mode": {
    "name": "ipython",
    "version": 3
   },
   "file_extension": ".py",
   "mimetype": "text/x-python",
   "name": "python",
   "nbconvert_exporter": "python",
   "pygments_lexer": "ipython3",
   "version": "3.7.5"
  }
 },
 "nbformat": 4,
 "nbformat_minor": 4
}
